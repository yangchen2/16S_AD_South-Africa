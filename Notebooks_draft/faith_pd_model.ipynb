{
 "cells": [
  {
   "cell_type": "code",
   "execution_count": null,
   "metadata": {},
   "outputs": [],
   "source": [
    "# Import Python packages\n",
    "import pandas as pd\n",
    "import numpy as np\n",
    "import biom\n",
    "import matplotlib.pyplot as plt\n",
    "import seaborn as sns\n",
    "from itertools import cycle\n",
    "import os\n",
    "from matplotlib.colors import ListedColormap\n",
    "from matplotlib.colors import to_rgba\n",
    "from scipy.stats import mannwhitneyu\n",
    "from skbio.diversity import alpha_diversity\n",
    "from matplotlib.patches import Ellipse\n",
    "import matplotlib.transforms as transforms\n",
    "from matplotlib.patches import Circle\n",
    "from matplotlib.colors import to_hex\n"
   ]
  }
 ],
 "metadata": {
  "kernelspec": {
   "display_name": "qiime2-metagenome-2024.10",
   "language": "python",
   "name": "python3"
  },
  "language_info": {
   "name": "python",
   "version": "3.10.14"
  }
 },
 "nbformat": 4,
 "nbformat_minor": 2
}
