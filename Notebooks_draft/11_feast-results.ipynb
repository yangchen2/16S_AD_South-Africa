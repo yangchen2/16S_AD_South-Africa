{
 "cells": [
  {
   "cell_type": "markdown",
   "metadata": {},
   "source": [
    "# Visualization of FEAST source tracking outputs"
   ]
  },
  {
   "cell_type": "code",
   "execution_count": 20,
   "metadata": {},
   "outputs": [],
   "source": [
    "import pandas as pd\n",
    "import re\n",
    "import os\n",
    "import seaborn as sns\n",
    "import matplotlib.pyplot as plt\n",
    "import networkx as nx\n"
   ]
  },
  {
   "cell_type": "code",
   "execution_count": 21,
   "metadata": {},
   "outputs": [],
   "source": [
    "# File metadata: filenames, skin group, and direction of transmission\n",
    "file_metadata = {\n",
    "    \"../Analyses/FEAST/1_case-lesional_top21_nares-source.tsv\": (\"case-lesional\", \"nares→skin\"),\n",
    "    \"../Analyses/FEAST/2_case-lesional_top21_skin-source.tsv\": (\"case-lesional\", \"skin→nares\"),\n",
    "    \"../Analyses/FEAST/3_case-nonlesional_top21_nares-source.tsv\": (\"case-nonlesional\", \"nares→skin\"),\n",
    "    \"../Analyses/FEAST/4_case-nonlesional_top21_skin-source.tsv\": (\"case-nonlesional\", \"skin→nares\"),\n",
    "    \"../Analyses/FEAST/5_healthy_top21_nares-source.tsv\": (\"healthy\", \"nares→skin\"),\n",
    "    \"../Analyses/FEAST/6_healthy_top21_skin-source.tsv\": (\"healthy\", \"skin→nares\"),\n",
    "}"
   ]
  },
  {
   "cell_type": "code",
   "execution_count": 22,
   "metadata": {},
   "outputs": [
    {
     "name": "stdout",
     "output_type": "stream",
     "text": [
      "Processing ../Analyses/FEAST/1_case-lesional_top21_nares-source.tsv...\n",
      "Processing ../Analyses/FEAST/2_case-lesional_top21_skin-source.tsv...\n",
      "Processing ../Analyses/FEAST/3_case-nonlesional_top21_nares-source.tsv...\n",
      "Processing ../Analyses/FEAST/4_case-nonlesional_top21_skin-source.tsv...\n",
      "Processing ../Analyses/FEAST/5_healthy_top21_nares-source.tsv...\n",
      "Processing ../Analyses/FEAST/6_healthy_top21_skin-source.tsv...\n",
      "✅ Done! Saved:\n",
      "- all_matched_contributions.tsv\n",
      "- strong_matched_contributions.tsv\n"
     ]
    }
   ],
   "source": [
    "# Function to extract subject ID using regex\n",
    "def extract_subject_id(name):\n",
    "    match = re.search(r'Ca-\\d{3}-[A-Z]{2}', name)\n",
    "    return match.group(0) if match else None\n",
    "\n",
    "# Initialize list to hold all subject-matched contributions\n",
    "all_matches = []\n",
    "\n",
    "# Loop through files and process\n",
    "for filename, (skin_group, direction) in file_metadata.items():\n",
    "    print(f\"Processing {filename}...\")\n",
    "    feast_output = pd.read_csv(filename, sep=\"\\t\", index_col=0)\n",
    "    \n",
    "    # Extract subject IDs\n",
    "    sink_subject_ids = feast_output.index.to_series().apply(extract_subject_id)\n",
    "    source_subject_ids = pd.Series(feast_output.columns).apply(extract_subject_id)\n",
    "    source_subject_ids.index = feast_output.columns\n",
    "\n",
    "    # Find intra-subject contributions\n",
    "    for sink, sink_subj in sink_subject_ids.items():\n",
    "        if sink_subj is None:\n",
    "            continue\n",
    "        for source in feast_output.columns:\n",
    "            if source_subject_ids[source] == sink_subj:\n",
    "                contribution = feast_output.at[sink, source]\n",
    "                all_matches.append({\n",
    "                    \"Sink\": sink,\n",
    "                    \"Source\": source,\n",
    "                    \"Subject_ID\": sink_subj,\n",
    "                    \"Contribution\": contribution,\n",
    "                    \"Direction\": direction,\n",
    "                    \"Skin_Group\": skin_group\n",
    "                })\n",
    "\n",
    "# Convert to DataFrame\n",
    "summary_df = pd.DataFrame(all_matches)\n",
    "\n",
    "# Filter for strong contributions (≥10%)\n",
    "strong_matches_df = summary_df[summary_df[\"Contribution\"] >= 0.1].sort_values(by=\"Contribution\", ascending=False)\n",
    "\n",
    "# Save both full and filtered versions\n",
    "summary_df.to_csv(\"../Analyses/FEAST/all_matched_contributions.tsv\", sep=\"\\t\", index=False)\n",
    "strong_matches_df.to_csv(\"../Analyses/FEAST/strong_matched_contributions.tsv\", sep=\"\\t\", index=False)\n",
    "\n",
    "print(\"✅ Done! Saved:\")\n",
    "print(\"- all_matched_contributions.tsv\")\n",
    "print(\"- strong_matched_contributions.tsv\")"
   ]
  },
  {
   "cell_type": "code",
   "execution_count": 61,
   "metadata": {},
   "outputs": [
    {
     "name": "stdout",
     "output_type": "stream",
     "text": [
      "✅ Plot saved as 'within_subject_transfer_summary.png'\n"
     ]
    }
   ],
   "source": [
    "# Load the data\n",
    "df = pd.read_csv(\"../Analyses/FEAST/strong_matched_contributions.tsv\", sep=\"\\t\")\n",
    "\n",
    "# Count matches by group and direction\n",
    "count_df = df.groupby([\"Skin_Group\", \"Direction\"]).size().reset_index(name=\"Count\")\n",
    "\n",
    "# Ensure all combinations are represented (even 0)\n",
    "all_combos = pd.MultiIndex.from_product([\n",
    "    [\"case-lesional\", \"case-nonlesional\", \"healthy\"],\n",
    "    [\"nares→skin\", \"skin→nares\"]\n",
    "], names=[\"Skin_Group\", \"Direction\"])\n",
    "count_df = count_df.set_index([\"Skin_Group\", \"Direction\"]).reindex(all_combos, fill_value=0).reset_index()\n",
    "\n",
    "# Define custom colors for direction\n",
    "direction_palette = {\n",
    "    \"nares→skin\": \"#ffd17e\",   # Yellow\n",
    "    \"skin→nares\": \"#947fff\"    # Red\n",
    "}\n",
    "\n",
    "# Set style and figure size\n",
    "sns.set(style=\"whitegrid\", context=\"talk\")\n",
    "plt.figure(figsize=(6, 6))\n",
    "\n",
    "# Create barplot\n",
    "ax = sns.barplot(\n",
    "    data=count_df,\n",
    "    x=\"Skin_Group\",\n",
    "    y=\"Count\",\n",
    "    hue=\"Direction\",\n",
    "    palette=direction_palette\n",
    ")\n",
    "\n",
    "# Manually update x-axis tick labels to L, NL, H\n",
    "ax.set_xticklabels([\"AD-L\", \"AD-NL\", \"H\"], fontsize=18)\n",
    "\n",
    "# Customize bar width\n",
    "bar_width = 0.25\n",
    "for bar in ax.patches:\n",
    "    current_width = bar.get_width()\n",
    "    diff = current_width - bar_width\n",
    "    bar.set_width(bar_width)\n",
    "    bar.set_x(bar.get_x() + diff / 2)\n",
    "\n",
    "# Titles and labels\n",
    "plt.suptitle(\"SourceTracking Matched Skin↔Nares\", fontsize=20, y=0.96, x=0.55)\n",
    "plt.title(\"Bacterial Transfer Within Individual Child\", fontsize=16)\n",
    "plt.ylabel(\"# of Subject-Matched Contributions (≥10%)\", fontsize=16)\n",
    "plt.xlabel(\"\")\n",
    "plt.ylim(0, count_df[\"Count\"].max() + 1)\n",
    "plt.legend(title=\"Direction (source→sink)\", fontsize=14, title_fontsize=14)\n",
    "\n",
    "# Save figure\n",
    "plt.tight_layout()\n",
    "plt.savefig(\"../Plots/Analysis_figures/FEAST/within_subject_transfer_summary.png\", dpi=300)\n",
    "print(\"✅ Plot saved as 'within_subject_transfer_summary.png'\")\n"
   ]
  },
  {
   "cell_type": "code",
   "execution_count": null,
   "metadata": {},
   "outputs": [],
   "source": []
  }
 ],
 "metadata": {
  "kernelspec": {
   "display_name": "qiime2-metagenome-2024.10",
   "language": "python",
   "name": "python3"
  },
  "language_info": {
   "codemirror_mode": {
    "name": "ipython",
    "version": 3
   },
   "file_extension": ".py",
   "mimetype": "text/x-python",
   "name": "python",
   "nbconvert_exporter": "python",
   "pygments_lexer": "ipython3",
   "version": "3.10.14"
  }
 },
 "nbformat": 4,
 "nbformat_minor": 2
}
