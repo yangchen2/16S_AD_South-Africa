{
 "cells": [
  {
   "cell_type": "code",
   "execution_count": 2,
   "metadata": {},
   "outputs": [],
   "source": [
    "# import Python packages\n",
    "import pandas as pd\n",
    "import numpy as np\n",
    "from numpy import array\n",
    "import matplotlib.pyplot as plt\n",
    "import seaborn as sns\n",
    "from matplotlib.gridspec import GridSpec\n",
    "import scipy\n",
    "import scipy.stats as ss\n",
    "from skbio.stats.distance import permanova\n",
    "import biom\n",
    "from biom import load_table\n",
    "from biom.util import biom_open\n",
    "from gemelli.rpca import rpca\n",
    "\n",
    "### See RPCA standalone python tutorial: \n",
    "# https://github.com/biocore/gemelli/blob/master/ipynb/tutorials/RPCA-moving-pictures-standalone-cli-and-api.ipynb"
   ]
  },
  {
   "cell_type": "markdown",
   "metadata": {},
   "source": [
    "# Load metadata/BIOM table and subset for nares only samples\n"
   ]
  },
  {
   "cell_type": "code",
   "execution_count": 3,
   "metadata": {},
   "outputs": [],
   "source": [
    "# Function to load BIOM table, collapse by taxa, sort rows by row sum, remove specified samples, and convert to relative abundance\n",
    "def load_biom_table(biom_path, metadata_path):\n",
    "    # Load BIOM table and convert to a DataFrame\n",
    "    table = biom.load_table(biom_path)\n",
    "    df = pd.DataFrame(table.matrix_data.toarray(),\n",
    "                      index=table.ids(axis='observation'),\n",
    "                      columns=table.ids(axis='sample'))\n",
    "    \n",
    "    # Sort rows by row sum in descending order\n",
    "    df['row_sum'] = df.sum(axis=1)\n",
    "    df = df.sort_values(by='row_sum', ascending=False)\n",
    "    \n",
    "    # Drop the 'row_sum' column before proceeding\n",
    "    df = df.drop(columns=['row_sum'])\n",
    "\n",
    "    # Replace ' g__' rows with ' g__Unknown'\n",
    "    df.index = df.index.map(lambda x: ' g__Unknown' if x == ' g__' else x)\n",
    "\n",
    "     # Load metadata as a DataFrame from the file path\n",
    "    metadata = pd.read_csv(metadata_path, sep='\\t')\n",
    "    metadata['#sample-id'] = metadata['#sample-id'].str.replace('_', '')\n",
    "\n",
    "    # Set Sample-ID as the index for the metadata dataframe \n",
    "    metadata = metadata.set_index('#sample-id')\n",
    "\n",
    "    # Ensures metadata only contains the ID in the BIOM file DF\n",
    "    metadata_sub = metadata.loc[df.columns]\n",
    "\n",
    "    # ~ makes it opposite so now we are just subsetting for only nares\n",
    "    metadataindex = metadata_sub[~metadata_sub['case_type'].isin(['case-anterior nares', 'control-anterior nares'])].index.tolist()\n",
    "    df = df.drop(columns= metadataindex)\n",
    "    metadata_sub = metadata.loc[df.columns]\n",
    "\n",
    "    return df, metadata_sub\n",
    "\n",
    "\n",
    "# converts \n",
    "def convert_df_to_biom(table, biom_output_file):\n",
    "    obs_ids = table.index\n",
    "    samp_ids = table.columns\n",
    "    biom_table = biom.table.Table(table.values, observation_ids=obs_ids, sample_ids=samp_ids) # Convert df back to a biom table\n",
    "    #biom_output_file = f\"../tables/{name}_subset.biom\" # Path to output file\n",
    "\n",
    "    with biom_open(biom_output_file, 'w') as f: # This does the actual saving!\n",
    "        biom_table.to_hdf5(f, generated_by=\"subsetted tables\")\n",
    "\n",
    "    return biom_table\n"
   ]
  },
  {
   "cell_type": "code",
   "execution_count": 4,
   "metadata": {},
   "outputs": [],
   "source": [
    "biom_path = \"/Users/annanguyen/16S_AD_South-Africa/Data/Tables/Relative_Abundance_Tables/df_16S_filtered_feature_table_rare_Genus_relative_abundance.biom\"\n",
    "metadata_path = '../Data/Metadata/updated_clean_ant_skin_metadata.tab'\n",
    "nares_only_table, metadata_sub = load_biom_table(biom_path, metadata_path)"
   ]
  },
  {
   "cell_type": "markdown",
   "metadata": {},
   "source": []
  },
  {
   "cell_type": "code",
   "execution_count": 9,
   "metadata": {},
   "outputs": [
    {
     "data": {
      "text/plain": [
       "case_type\n",
       "case-anterior nares       60\n",
       "control-anterior nares    46\n",
       "Name: count, dtype: int64"
      ]
     },
     "execution_count": 9,
     "metadata": {},
     "output_type": "execute_result"
    }
   ],
   "source": [
    "# Check if metadata subsetting is successful \n",
    "metadata_sub['case_type'].value_counts()"
   ]
  },
  {
   "cell_type": "markdown",
   "metadata": {},
   "source": [
    "# Converting the subsetted BIOM table DF back to BIOM table "
   ]
  },
  {
   "cell_type": "code",
   "execution_count": 5,
   "metadata": {},
   "outputs": [
    {
     "name": "stdout",
     "output_type": "stream",
     "text": [
      "nares_only_biom_path = '/Users/annanguyen/16S_AD_South-Africa/Data/Tables/Relative_Abundance_Tables/df_16S_filtered_feature_table_rare_Genus_relative_abundance_nares_only.biom'\n"
     ]
    }
   ],
   "source": [
    "nares_only_biom_path = biom_path.removesuffix('.biom') + '_nares_only.biom'\n",
    "print(f'{nares_only_biom_path = }')\n",
    "biom_tbl = convert_df_to_biom(nares_only_table, nares_only_biom_path)"
   ]
  },
  {
   "cell_type": "markdown",
   "metadata": {},
   "source": [
    "# Run RPCA on subsetted BIOM table"
   ]
  },
  {
   "cell_type": "code",
   "execution_count": 10,
   "metadata": {},
   "outputs": [
    {
     "data": {
      "text/html": [
       "<div>\n",
       "<style scoped>\n",
       "    .dataframe tbody tr th:only-of-type {\n",
       "        vertical-align: middle;\n",
       "    }\n",
       "\n",
       "    .dataframe tbody tr th {\n",
       "        vertical-align: top;\n",
       "    }\n",
       "\n",
       "    .dataframe thead th {\n",
       "        text-align: right;\n",
       "    }\n",
       "</style>\n",
       "<table border=\"1\" class=\"dataframe\">\n",
       "  <thead>\n",
       "    <tr style=\"text-align: right;\">\n",
       "      <th></th>\n",
       "      <th>PC1</th>\n",
       "      <th>PC2</th>\n",
       "      <th>PC3</th>\n",
       "      <th>case_type</th>\n",
       "    </tr>\n",
       "  </thead>\n",
       "  <tbody>\n",
       "    <tr>\n",
       "      <th>900092</th>\n",
       "      <td>-0.010856</td>\n",
       "      <td>0.110137</td>\n",
       "      <td>0.053213</td>\n",
       "      <td>case-anterior nares</td>\n",
       "    </tr>\n",
       "    <tr>\n",
       "      <th>900466</th>\n",
       "      <td>-0.032580</td>\n",
       "      <td>0.088337</td>\n",
       "      <td>0.119949</td>\n",
       "      <td>case-anterior nares</td>\n",
       "    </tr>\n",
       "    <tr>\n",
       "      <th>9003932</th>\n",
       "      <td>-0.127913</td>\n",
       "      <td>0.043697</td>\n",
       "      <td>-0.030330</td>\n",
       "      <td>control-anterior nares</td>\n",
       "    </tr>\n",
       "    <tr>\n",
       "      <th>900556</th>\n",
       "      <td>0.008655</td>\n",
       "      <td>-0.087404</td>\n",
       "      <td>0.097629</td>\n",
       "      <td>case-anterior nares</td>\n",
       "    </tr>\n",
       "    <tr>\n",
       "      <th>900301</th>\n",
       "      <td>0.065717</td>\n",
       "      <td>0.060684</td>\n",
       "      <td>-0.290518</td>\n",
       "      <td>case-anterior nares</td>\n",
       "    </tr>\n",
       "    <tr>\n",
       "      <th>...</th>\n",
       "      <td>...</td>\n",
       "      <td>...</td>\n",
       "      <td>...</td>\n",
       "      <td>...</td>\n",
       "    </tr>\n",
       "    <tr>\n",
       "      <th>900328a</th>\n",
       "      <td>0.169568</td>\n",
       "      <td>-0.089589</td>\n",
       "      <td>-0.078927</td>\n",
       "      <td>control-anterior nares</td>\n",
       "    </tr>\n",
       "    <tr>\n",
       "      <th>900547</th>\n",
       "      <td>-0.076549</td>\n",
       "      <td>-0.087305</td>\n",
       "      <td>0.043353</td>\n",
       "      <td>control-anterior nares</td>\n",
       "    </tr>\n",
       "    <tr>\n",
       "      <th>900304</th>\n",
       "      <td>0.012389</td>\n",
       "      <td>-0.006423</td>\n",
       "      <td>0.084750</td>\n",
       "      <td>case-anterior nares</td>\n",
       "    </tr>\n",
       "    <tr>\n",
       "      <th>900580</th>\n",
       "      <td>0.006267</td>\n",
       "      <td>0.226454</td>\n",
       "      <td>-0.038413</td>\n",
       "      <td>case-anterior nares</td>\n",
       "    </tr>\n",
       "    <tr>\n",
       "      <th>900484</th>\n",
       "      <td>0.005067</td>\n",
       "      <td>-0.052876</td>\n",
       "      <td>0.058991</td>\n",
       "      <td>case-anterior nares</td>\n",
       "    </tr>\n",
       "  </tbody>\n",
       "</table>\n",
       "<p>106 rows × 4 columns</p>\n",
       "</div>"
      ],
      "text/plain": [
       "              PC1       PC2       PC3               case_type\n",
       "900092  -0.010856  0.110137  0.053213     case-anterior nares\n",
       "900466  -0.032580  0.088337  0.119949     case-anterior nares\n",
       "9003932 -0.127913  0.043697 -0.030330  control-anterior nares\n",
       "900556   0.008655 -0.087404  0.097629     case-anterior nares\n",
       "900301   0.065717  0.060684 -0.290518     case-anterior nares\n",
       "...           ...       ...       ...                     ...\n",
       "900328a  0.169568 -0.089589 -0.078927  control-anterior nares\n",
       "900547  -0.076549 -0.087305  0.043353  control-anterior nares\n",
       "900304   0.012389 -0.006423  0.084750     case-anterior nares\n",
       "900580   0.006267  0.226454 -0.038413     case-anterior nares\n",
       "900484   0.005067 -0.052876  0.058991     case-anterior nares\n",
       "\n",
       "[106 rows x 4 columns]"
      ]
     },
     "execution_count": 10,
     "metadata": {},
     "output_type": "execute_result"
    }
   ],
   "source": [
    "# perform RPCA with auto rank estimation\n",
    "np.seterr(divide = 'ignore')\n",
    "ordination, distance = rpca(biom_tbl)\n",
    "\n",
    "# extract and view sample ordinations from RPCA result\n",
    "spca_df = ordination.samples\n",
    "\n",
    "# Add a case type column into the spca_df using the meta_data and matching by indices by the join function\n",
    "spca_df = spca_df.join(metadata_sub['case_type'])\n",
    "\n",
    "spca_df"
   ]
  },
  {
   "cell_type": "code",
   "execution_count": 19,
   "metadata": {},
   "outputs": [
    {
     "name": "stdout",
     "output_type": "stream",
     "text": [
      "106x106 distance matrix\n",
      "IDs:\n",
      "'900092', '900466', '9003932', '900556', '900301', '900456', '900601', '900577', ...\n",
      "Data:\n",
      "[[0.         0.39065306 1.52903146 ... 1.0200469  0.90911368 1.54393113]\n",
      " [0.39065306 0.         1.42295563 ... 1.13912873 1.13367077 1.63841355]\n",
      " [1.52903146 1.42295563 0.         ... 1.38373918 2.27223275 1.41602222]\n",
      " ...\n",
      " [1.0200469  1.13912873 1.38373918 ... 0.         1.84654692 0.55371229]\n",
      " [0.90911368 1.13367077 2.27223275 ... 1.84654692 0.         2.36111768]\n",
      " [1.54393113 1.63841355 1.41602222 ... 0.55371229 2.36111768 0.        ]]\n"
     ]
    }
   ],
   "source": [
    "# view distance matrix\n",
    "print(distance)\n"
   ]
  },
  {
   "cell_type": "code",
   "execution_count": 12,
   "metadata": {},
   "outputs": [
    {
     "data": {
      "text/html": [
       "<div>\n",
       "<style scoped>\n",
       "    .dataframe tbody tr th:only-of-type {\n",
       "        vertical-align: middle;\n",
       "    }\n",
       "\n",
       "    .dataframe tbody tr th {\n",
       "        vertical-align: top;\n",
       "    }\n",
       "\n",
       "    .dataframe thead th {\n",
       "        text-align: right;\n",
       "    }\n",
       "</style>\n",
       "<table border=\"1\" class=\"dataframe\">\n",
       "  <thead>\n",
       "    <tr style=\"text-align: right;\">\n",
       "      <th></th>\n",
       "      <th>PC1</th>\n",
       "      <th>PC2</th>\n",
       "      <th>PC3</th>\n",
       "    </tr>\n",
       "  </thead>\n",
       "  <tbody>\n",
       "    <tr>\n",
       "      <th>g__Streptococcus</th>\n",
       "      <td>-0.057559</td>\n",
       "      <td>0.133266</td>\n",
       "      <td>0.874041</td>\n",
       "    </tr>\n",
       "    <tr>\n",
       "      <th>g__Staphylococcus</th>\n",
       "      <td>0.320377</td>\n",
       "      <td>-0.057333</td>\n",
       "      <td>-0.050323</td>\n",
       "    </tr>\n",
       "    <tr>\n",
       "      <th>g__Haemophilus_D_734546</th>\n",
       "      <td>-0.406874</td>\n",
       "      <td>-0.762683</td>\n",
       "      <td>0.044170</td>\n",
       "    </tr>\n",
       "    <tr>\n",
       "      <th>g__Unknown</th>\n",
       "      <td>0.333660</td>\n",
       "      <td>-0.090450</td>\n",
       "      <td>0.072459</td>\n",
       "    </tr>\n",
       "    <tr>\n",
       "      <th>g__Corynebacterium</th>\n",
       "      <td>0.469125</td>\n",
       "      <td>-0.326052</td>\n",
       "      <td>0.009351</td>\n",
       "    </tr>\n",
       "  </tbody>\n",
       "</table>\n",
       "</div>"
      ],
      "text/plain": [
       "                              PC1       PC2       PC3\n",
       "g__Streptococcus        -0.057559  0.133266  0.874041\n",
       "g__Staphylococcus        0.320377 -0.057333 -0.050323\n",
       "g__Haemophilus_D_734546 -0.406874 -0.762683  0.044170\n",
       "g__Unknown               0.333660 -0.090450  0.072459\n",
       "g__Corynebacterium       0.469125 -0.326052  0.009351"
      ]
     },
     "execution_count": 12,
     "metadata": {},
     "output_type": "execute_result"
    }
   ],
   "source": [
    "# extract and view feature ordinations from RPCA result\n",
    "fpca_df = ordination.features\n",
    "fpca_df.head()"
   ]
  },
  {
   "cell_type": "code",
   "execution_count": 24,
   "metadata": {},
   "outputs": [],
   "source": [
    "# Set the color palette for the groups in the correct order\n",
    "palette = {\n",
    "    'control-anterior nares': '#008000',   # Green for healthy Nasal\n",
    "    'case-anterior nares': '#FFC0CB'        # Pink for AD Nasal\n",
    "}\n"
   ]
  },
  {
   "cell_type": "markdown",
   "metadata": {},
   "source": [
    "# Calculate P-values "
   ]
  },
  {
   "cell_type": "code",
   "execution_count": 17,
   "metadata": {},
   "outputs": [
    {
     "name": "stdout",
     "output_type": "stream",
     "text": [
      "0.218\n"
     ]
    }
   ],
   "source": [
    "# calculate permanova F-statistic\n",
    "pnova_res = permanova(distance, spca_df, \"case_type\")\n",
    "print(pnova_res['p-value'])"
   ]
  },
  {
   "cell_type": "markdown",
   "metadata": {},
   "source": [
    "# Plot the convex hull PCA for Nare samples only"
   ]
  },
  {
   "cell_type": "code",
   "execution_count": 27,
   "metadata": {},
   "outputs": [
    {
     "name": "stderr",
     "output_type": "stream",
     "text": [
      "/var/folders/rp/mghgplxx36v920xs6nr3x9f40000gn/T/ipykernel_13260/1075367049.py:74: UserWarning: FigureCanvasAgg is non-interactive, and thus cannot be shown\n",
      "  plt.show()\n"
     ]
    }
   ],
   "source": [
    "# create beta diversity plot\n",
    "mm = 1/25.4\n",
    "fig, ax = plt.subplots(1, 1, figsize=(90*mm, 110*mm))\n",
    "\n",
    "fpca_df.columns = [f\"PC{i+1}\" for i in range(fpca_df.shape[1])]\n",
    "\n",
    "sns.scatterplot(\n",
    "    data=spca_df,\n",
    "    x=\"PC1\",\n",
    "    y=\"PC2\",\n",
    "    hue=\"case_type\",\n",
    "    edgecolor=None,\n",
    "    palette=palette,\n",
    "    ax=ax\n",
    ")\n",
    "\n",
    "for case_type, case_type_df in spca_df.groupby(\"case_type\"):\n",
    "    color = palette[case_type]\n",
    "\n",
    "    points = case_type_df[[\"PC1\", \"PC2\"]].values\n",
    "    hull = scipy.spatial.ConvexHull(points)\n",
    "\n",
    "    hull_plot_x = points[hull.vertices, 0]\n",
    "    hull_plot_y = points[hull.vertices, 1]\n",
    "    # Connect last point with first point\n",
    "    hull_plot_x = np.append(hull_plot_x, points[hull.vertices[0], 0])\n",
    "    hull_plot_y = np.append(hull_plot_y, points[hull.vertices[0], 1])\n",
    "\n",
    "    ax.plot(\n",
    "        hull_plot_x,\n",
    "        hull_plot_y,\n",
    "        c=color,\n",
    "        zorder=0\n",
    "    )\n",
    "    ax.fill(\n",
    "        points[hull.vertices, 0],\n",
    "        points[hull.vertices, 1],\n",
    "        c=color,\n",
    "        alpha=0.3\n",
    "    )\n",
    "\n",
    "\n",
    "handles, labels = ax.get_legend_handles_labels()\n",
    "plt.legend(\n",
    "    handles=handles,\n",
    "    labels=map(str.capitalize, labels),\n",
    "    frameon=False,\n",
    "    fontsize = 7\n",
    ")\n",
    "\n",
    "pc1_pct, pc2_pct, _ = [f\"PC{i+1} ({x*100:.2f}%)\" for i, x in enumerate(ordination.proportion_explained)]\n",
    "\n",
    "ax.set_xlabel(pc1_pct, fontsize = 7)\n",
    "ax.set_ylabel(pc2_pct, fontsize = 7)\n",
    "\n",
    "yticklabels = [-0.2, -0.1, 0.0, 0.1, 0.2, 0.3]\n",
    "yticklocations = yticklabels  # Assuming you want the locations to match the labels\n",
    "ax.set_yticks(yticklocations)\n",
    "ax.set_yticklabels(yticklabels, fontsize = 7)\n",
    "\n",
    "xticklabels = [-0.2, -0.1, 0.0, 0.1, 0.2, 0.3]\n",
    "xticklocations = xticklabels  # Assuming you want the locations to match the labels\n",
    "ax.set_xticks(xticklocations)\n",
    "ax.set_xticklabels(xticklabels, fontsize = 7)\n",
    "\n",
    "ax.text(-0.18, 0.22, 'PERMANOVA', fontsize=7)\n",
    "ax.text(-0.18, 0.2, f\"p-val = {pnova_res['p-value']}\", fontsize=7)\n",
    "\n",
    "ax.spines[\"right\"].set_visible(False)\n",
    "ax.spines[\"top\"].set_visible(False)\n",
    "\n",
    "plt.tight_layout()\n",
    "plt.savefig(\"../plots/Beta_Plots/16S_Beta_Diversity_nares_only.png\", dpi = 600)\n",
    "plt.show()"
   ]
  },
  {
   "cell_type": "code",
   "execution_count": null,
   "metadata": {},
   "outputs": [],
   "source": []
  }
 ],
 "metadata": {
  "kernelspec": {
   "display_name": "microbiome_plots",
   "language": "python",
   "name": "python3"
  },
  "language_info": {
   "codemirror_mode": {
    "name": "ipython",
    "version": 3
   },
   "file_extension": ".py",
   "mimetype": "text/x-python",
   "name": "python",
   "nbconvert_exporter": "python",
   "pygments_lexer": "ipython3",
   "version": "3.10.14"
  }
 },
 "nbformat": 4,
 "nbformat_minor": 2
}
