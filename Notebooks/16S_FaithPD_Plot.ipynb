{
 "cells": [
  {
   "cell_type": "markdown",
   "metadata": {},
   "source": [
    "## Faith Phylogenetic Diversity plots"
   ]
  },
  {
   "cell_type": "code",
   "execution_count": 2,
   "metadata": {},
   "outputs": [],
   "source": [
    "# Import Python packages\n",
    "import pandas as pd\n",
    "import numpy as np\n",
    "import biom\n",
    "import matplotlib.pyplot as plt\n",
    "import seaborn as sns\n",
    "from itertools import cycle\n",
    "import os\n",
    "from matplotlib.colors import ListedColormap\n",
    "from matplotlib.colors import to_rgba"
   ]
  },
  {
   "cell_type": "code",
   "execution_count": 8,
   "metadata": {},
   "outputs": [],
   "source": [
    "# Define the taxa level\n",
    "taxa_level = 'Genus'"
   ]
  },
  {
   "cell_type": "code",
   "execution_count": 7,
   "metadata": {},
   "outputs": [
    {
     "data": {
      "text/plain": [
       "case_type\n",
       "case-nonlesional skin       111\n",
       "case-anterior nares         108\n",
       "case-lesional skin          107\n",
       "control-anterior nares       89\n",
       "control-nonlesional skin     87\n",
       "Name: count, dtype: int64"
      ]
     },
     "execution_count": 7,
     "metadata": {},
     "output_type": "execute_result"
    }
   ],
   "source": [
    "# Load the metadata\n",
    "metadata_path = '../Data/Metadata/updated_clean_ant_skin_metadata.tab'\n",
    "metadata = pd.read_csv(metadata_path, sep='\\t')\n",
    "metadata['case_type'].value_counts()"
   ]
  },
  {
   "cell_type": "code",
   "execution_count": 9,
   "metadata": {},
   "outputs": [],
   "source": [
    "# Define paths to the collapsed taxa tables\n",
    "biom_paths = {\n",
    "    '16S_V4': '../Data/Tables/Relative_Abundance_Tables/df_16S_filtered_feature_table_rare_Genus_relative_abundance.biom'\n",
    "}"
   ]
  },
  {
   "cell_type": "code",
   "execution_count": 10,
   "metadata": {},
   "outputs": [],
   "source": [
    "# Predefined color palette for specific families\n",
    "if taxa_level == \"Genus\":\n",
    "    taxa_colors = {\n",
    "        ' g__Cutibacterium': '#ffa505',  # Bright orange\n",
    "        ' g__Staphylococcus': '#92f0f0',      # Fluorescent light blue\n",
    "        ' g__Streptococcus': '#FF0000',    # Red\n",
    "        ' g__Corynebacterium': '#ffe59a',        # Pastel yellow\n",
    "        ' g__Lawsonella': '#70a8dc',         # Light blue\n",
    "        ' g__Veillonella': '#c5bce0',         # Pastel purplish\n",
    "        ' g__Micrococcus':'#f4cccd',           # Pastel yellow\n",
    "        ' g__Alloprevotella': '#bcbcbc',        # Light gray\n",
    "        ' g__Lactobacillus': '#daead3',     # Pale mint green\n",
    "        ' g__Neisseria': '#f6475f',         # Redish pink\n",
    "        'Others': '#ededed'                 # White\n",
    "    }"
   ]
  },
  {
   "cell_type": "code",
   "execution_count": 11,
   "metadata": {},
   "outputs": [],
   "source": [
    "# Additional Python packages for alpha diversity analyses\n",
    "from skbio.diversity import alpha_diversity\n",
    "from scipy.stats import mannwhitneyu"
   ]
  },
  {
   "cell_type": "code",
   "execution_count": 13,
   "metadata": {},
   "outputs": [],
   "source": [
    "def darken_color(color, amount=0.3):\n",
    "    \"\"\"\n",
    "    Darken a given color by a certain amount.\n",
    "    \n",
    "    Parameters:\n",
    "    - color: The base color (as a hex string or color name).\n",
    "    - amount: The amount to darken the color by (default: 0.3).\n",
    "    \n",
    "    Returns:\n",
    "    - A darkened color as a hex string.\n",
    "    \"\"\"\n",
    "    c = to_rgba(color)\n",
    "    return (c[0] * (1 - amount), c[1] * (1 - amount), c[2] * (1 - amount), c[3])"
   ]
  },
  {
   "cell_type": "code",
   "execution_count": 19,
   "metadata": {},
   "outputs": [],
   "source": [
    "def plot_faith_pd_histo(biom_path, metadata_path, group_col, title_suffix):\n",
    "    # Load metadata as a DataFrame from the file path\n",
    "    metadata = pd.read_csv(metadata_path, sep='\\t')\n",
    "    metadata = metadata.set_index('#sample-id')\n",
    "    \n",
    "    # Load biom table\n",
    "    feature_table = pd.read_csv(\"~/16S_AD_South-Africa/Data/Tables/Faith_PD Tables/vector.tsv\", sep=\"\\t\")\n",
    "    \n",
    "    # set the sample ID of feature_table to be the index\n",
    "    feature_table = feature_table.set_index(feature_table.columns[0])\n",
    "    \n",
    "    # Merge'Faith_PD values with metadata\n",
    "    common_samples = metadata.index.intersection(feature_table.index)\n",
    "    metadata = metadata.loc[common_samples].copy()\n",
    "    metadata['Faith_PD'] = feature_table.loc[common_samples]\n",
    "    \n",
    "    # Set the custom order for the groups: Healthy first, then Acne Non-lesional, then Acne Lesional\n",
    "    desired_order = ['control-nonlesional skin','case-nonlesional skin', 'case-lesional skin', 'control-anterior nares', 'case-anterior nares']\n",
    "\n",
    "    # Set the color palette for the groups in the correct order\n",
    "    palette = {\n",
    "        'control-nonlesional skin': '#3333B3',     # Dark Blue color for Healthy\n",
    "        'case-nonlesional skin': '#5cbccb',     # Blue color for AD Non-Lesional\n",
    "        'case-lesional skin': '#f16c52',       # Red color for AD Lesional\n",
    "        'control-anterior nares': '#008000',   # Green for healthy Nasal\n",
    "        'case-anterior nares': '#FFC0CB'        # Pink for AD Nasal\n",
    "    }\n",
    "\n",
    "    # Create a new column for severity category based on local lesion severity\n",
    "    # metadata['severity_category'] = pd.cut(metadata['age_months'],\n",
    "    #                                     bins=[0, 2, 4, 6],  # Low (1-2), Moderate (3-4), High (5-6)\n",
    "    #                                     labels=['low', 'moderate', 'high'])\n",
    "\n",
    "    # Define a custom palette for severity categories within Acne_L group\n",
    "    # severity_palette = {\n",
    "    #     'low': '#F1948A',      # Light red for low severity\n",
    "    #     'moderate': '#EC7063',  # Red for moderate severity\n",
    "    #     'high': '#C0392B'       # Dark red for high severity\n",
    "    # }\n",
    "\n",
    "    # Create a more rectangular plot (e.g., 8 inches wide and 12 inches tall)\n",
    "    plt.figure(figsize=(10, 10))\n",
    "\n",
    "    # Plot the'Faith_PD diversity across the groups using a boxplot with custom colors and order\n",
    "    ax = sns.boxplot(x=group_col, y='Faith_PD', data=metadata, palette=palette, order=desired_order)\n",
    "\n",
    "    # Darken the colors for the strip plot manually\n",
    "    darker_palette = {key: darken_color(color) for key, color in palette.items()}\n",
    "\n",
    "    # Plot the general stripplot with darkened colors\n",
    "    sns.stripplot(x=group_col, y='Faith_PD', data=metadata, palette=darker_palette, jitter=True, dodge=False, ax=ax, linewidth=0.6, order=desired_order)\n",
    "\n",
    "    # Add a second stripplot specifically for Acne_L, coloring by severity\n",
    "    # sns.stripplot(x=metadata[metadata[group_col] == 'Acne_L'][group_col], \n",
    "    #               y=metadata[metadata[group_col] == 'Acne_L']['Faith_PD'], \n",
    "    #               hue=metadata[metadata[group_col] == 'Acne_L']['severity_category'],\n",
    "    #               palette=severity_palette, jitter=True, dodge=False, ax=ax, linewidth=0.6)\n",
    "\n",
    "    # Adjust the legend for the severity categories\n",
    "    handles, labels = ax.get_legend_handles_labels()\n",
    "    severity_handles = handles[-3:]  # Get the last three handles, which correspond to severity levels\n",
    "    severity_labels = ['Low (1-2)', 'Moderate (3-4)', 'High (5-6)']  # Rename the labels\n",
    "\n",
    "    # Move the legend outside the boxplot to the right\n",
    "    # ax.legend(severity_handles, severity_labels, title='Lesional Severity Score', \n",
    "    #         loc='center left', bbox_to_anchor=(1.0, 0.5), ncol=1, frameon=True, title_fontsize=16, fontsize=14)\n",
    "\n",
    "    # Add the title and labels\n",
    "    plt.title(f'16S rRNA ({title_suffix}) Faith Phylogenetic Diversity', fontsize=18)\n",
    "    plt.xlabel(' ')\n",
    "    plt.ylabel('Faith PD', fontsize=16)\n",
    "\n",
    "    # Set x-axis labels and sample size retained after rarefaction for V1-V3 and V4\n",
    "    if key == '16S_V4':\n",
    "        new_labels = ['Healthy skin','AD NL skin', 'AD L skin', 'Healthy anterior nares', 'AD anterior nares']\n",
    "        \n",
    "    plt.xticks(ticks=range(len(new_labels)), labels=new_labels, rotation=45, ha='center', fontsize=16)\n",
    "\n",
    "    # Pairwise significance testing using Mann-Whitney U test\n",
    "    groups = desired_order\n",
    "    p_values = {}\n",
    "    \n",
    "    # Heights to draw the annotation lines∂\n",
    "    y_max = max(metadata['Faith_PD']) + 0.1\n",
    "    height_step = 1.5  # Height step between lines\n",
    "    \n",
    "    # Perform pairwise comparisons\n",
    "    for i, group1 in enumerate(groups):\n",
    "        for j, group2 in enumerate(groups):\n",
    "            if i < j:\n",
    "                # Get the'Faith_PD values for each group\n",
    "                group1_values = metadata[metadata[group_col] == group1]['Faith_PD']\n",
    "                group2_values = metadata[metadata[group_col] == group2]['Faith_PD']\n",
    "                \n",
    "                # Perform Mann-Whitney U test\n",
    "                stat, p = mannwhitneyu(group1_values, group2_values, alternative='two-sided')\n",
    "                p_values[f'{group1} vs {group2}'] = p\n",
    "                \n",
    "                # Determine the significance label based on p-value thresholds\n",
    "                if p >= 0.05:\n",
    "                    label = f\"{p:.2e}\"\n",
    "                elif p < 0.001:\n",
    "                    label = '***  ' + f\"{p:.2e}\"\n",
    "                elif p < 0.01:\n",
    "                    label = '**  ' + f\"{p:.2e}\"\n",
    "                else:\n",
    "                    label = '*  ' + f\"{p:.2e}\"\n",
    "                \n",
    "                # Get x coordinates of the boxplots\n",
    "                x1, x2 = i, j\n",
    "                y = y_max + height_step  # Vertical position for the horizontal line\n",
    "                \n",
    "                # Draw horizontal line and annotate the significance label\n",
    "                plt.plot([x1, x1, x2, x2], [y, y + 0.1, y + 0.1, y], lw=1, color='black')\n",
    "                #plt.plot([x1, x1, x2, x2], [y, y + 5, y + 5, y], lw=1, color='black')\n",
    "                plt.text((x1 + x2) * 0.5, y + 0.2, label, ha='center', va='bottom', fontsize=12)\n",
    "                \n",
    "                # Update y_max for the next comparison\n",
    "                y_max += height_step + 0.5\n",
    "\n",
    "        # Save the figure\n",
    "        plt.savefig(f'../Plots/Analysis_figures/Diversity/{key}_{taxa_level}_FaithPD.png', dpi=600, bbox_inches='tight', pad_inches=0.1)  # Save as png\n",
    "        plt.savefig(f'../Plots/Analysis_figures/Diversity/{key}_{taxa_level}_FaithPD.svg')  # Save as svg\n",
    "\n",
    "    # Print pairwise p-values in scientific notation\n",
    "    print(\"Pairwise Mann-Whitney U test p-values:\")\n",
    "    for comparison, p_value in p_values.items():\n",
    "        print(f\"{comparison}: p-value = {p_value:.2e}\")\n"
   ]
  },
  {
   "cell_type": "code",
   "execution_count": 20,
   "metadata": {},
   "outputs": [
    {
     "name": "stderr",
     "output_type": "stream",
     "text": [
      "/var/folders/rp/mghgplxx36v920xs6nr3x9f40000gn/T/ipykernel_19224/206417764.py:57: FutureWarning: Passing `palette` without assigning `hue` is deprecated.\n",
      "  sns.stripplot(x=group_col, y='Faith_PD', data=metadata, palette=darker_palette, jitter=True, dodge=False, ax=ax, linewidth=0.6, order=desired_order)\n",
      "/Users/annanguyen/miniconda3/envs/qiime2-amplicon-2024.10/lib/python3.10/site-packages/seaborn/_oldcore.py:1119: FutureWarning: use_inf_as_na option is deprecated and will be removed in a future version. Convert inf values to NaN before operating instead.\n",
      "  with pd.option_context('mode.use_inf_as_na', True):\n",
      "/Users/annanguyen/miniconda3/envs/qiime2-amplicon-2024.10/lib/python3.10/site-packages/seaborn/_oldcore.py:1119: FutureWarning: use_inf_as_na option is deprecated and will be removed in a future version. Convert inf values to NaN before operating instead.\n",
      "  with pd.option_context('mode.use_inf_as_na', True):\n",
      "/Users/annanguyen/miniconda3/envs/qiime2-amplicon-2024.10/lib/python3.10/site-packages/seaborn/_oldcore.py:1075: FutureWarning: When grouping with a length-1 list-like, you will need to pass a length-1 tuple to get_group in a future version of pandas. Pass `(name,)` instead of `name` to silence this warning.\n",
      "  data_subset = grouped_data.get_group(pd_key)\n"
     ]
    },
    {
     "name": "stdout",
     "output_type": "stream",
     "text": [
      "Pairwise Mann-Whitney U test p-values:\n",
      "control-nonlesional skin vs case-nonlesional skin: p-value = 2.21e-04\n",
      "control-nonlesional skin vs case-lesional skin: p-value = 7.43e-03\n",
      "control-nonlesional skin vs control-anterior nares: p-value = 3.04e-16\n",
      "control-nonlesional skin vs case-anterior nares: p-value = 8.50e-15\n",
      "case-nonlesional skin vs case-lesional skin: p-value = 6.62e-02\n",
      "case-nonlesional skin vs control-anterior nares: p-value = 8.91e-13\n",
      "case-nonlesional skin vs case-anterior nares: p-value = 3.22e-11\n",
      "case-lesional skin vs control-anterior nares: p-value = 3.33e-16\n",
      "case-lesional skin vs case-anterior nares: p-value = 1.86e-15\n",
      "control-anterior nares vs case-anterior nares: p-value = 5.82e-01\n"
     ]
    }
   ],
   "source": [
    "# Plot Alpha Diversity plots for both V1-V3 and V4\n",
    "for key, biom_path in biom_paths.items():\n",
    "    plot_faith_pd_histo(\n",
    "        biom_path=biom_path,\n",
    "        metadata_path=metadata_path,\n",
    "        group_col='case_type',\n",
    "        title_suffix='V4' if key == '16S_V4' else ''\n",
    "    )\n"
   ]
  }
 ],
 "metadata": {
  "kernelspec": {
   "display_name": "qiime2-amplicon-2024.10",
   "language": "python",
   "name": "python3"
  },
  "language_info": {
   "codemirror_mode": {
    "name": "ipython",
    "version": 3
   },
   "file_extension": ".py",
   "mimetype": "text/x-python",
   "name": "python",
   "nbconvert_exporter": "python",
   "pygments_lexer": "ipython3",
   "version": "3.10.14"
  }
 },
 "nbformat": 4,
 "nbformat_minor": 2
}
