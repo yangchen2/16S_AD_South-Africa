{
 "cells": [
  {
   "cell_type": "code",
   "execution_count": 1,
   "metadata": {},
   "outputs": [],
   "source": [
    "# import Python packages\n",
    "import pandas as pd\n",
    "import numpy as np\n",
    "from numpy import array\n",
    "import matplotlib.pyplot as plt\n",
    "import seaborn as sns\n",
    "from matplotlib.gridspec import GridSpec\n",
    "import scipy\n",
    "import scipy.stats as ss\n",
    "from skbio.stats.distance import permanova\n",
    "import biom\n",
    "from biom import load_table\n",
    "from biom.util import biom_open\n",
    "from gemelli.rpca import rpca\n",
    "\n",
    "### See RPCA standalone python tutorial: \n",
    "# https://github.com/biocore/gemelli/blob/master/ipynb/tutorials/RPCA-moving-pictures-standalone-cli-and-api.ipynb"
   ]
  },
  {
   "cell_type": "markdown",
   "metadata": {},
   "source": [
    "# Load metadata/BIOM table and subset for skin only samples\n"
   ]
  },
  {
   "cell_type": "code",
   "execution_count": 10,
   "metadata": {},
   "outputs": [],
   "source": [
    "# # read in biom table\n",
    "# biom_tbl = biom.load_table(\"/Users/annanguyen/16S_AD_South-Africa/Data/Tables/Relative_Abundance_Tables/df_16S_filtered_feature_table_rare_Genus_relative_abundance.biom\")\n",
    "\n",
    "# print(biom_tbl.ids(axis= 'sample'))\n",
    "# len(biom_tbl.ids(axis= 'sample'))\n",
    "# type(biom_tbl.ids(axis = 'sample'))\n",
    "\n",
    "# Function to load BIOM table, collapse by taxa, sort rows by row sum, remove specified samples, and convert to relative abundance\n",
    "def load_biom_table(biom_path, metadata_path):\n",
    "    # Load BIOM table and convert to a DataFrame\n",
    "    table = biom.load_table(biom_path)\n",
    "    df = pd.DataFrame(table.matrix_data.toarray(),\n",
    "                      index=table.ids(axis='observation'),\n",
    "                      columns=table.ids(axis='sample'))\n",
    "    \n",
    "    # Sort rows by row sum in descending order\n",
    "    df['row_sum'] = df.sum(axis=1)\n",
    "    df = df.sort_values(by='row_sum', ascending=False)\n",
    "    \n",
    "    # Drop the 'row_sum' column before proceeding\n",
    "    df = df.drop(columns=['row_sum'])\n",
    "\n",
    "    # Replace ' g__' rows with ' g__Unknown'\n",
    "    df.index = df.index.map(lambda x: ' g__Unknown' if x == ' g__' else x)\n",
    "\n",
    "     # Load metadata as a DataFrame from the file path\n",
    "    metadata = pd.read_csv(metadata_path, sep='\\t')\n",
    "    metadata['#sample-id'] = metadata['#sample-id'].str.replace('_', '')\n",
    "\n",
    "    # Set Sample-ID as the index for the metadata dataframe \n",
    "    metadata = metadata.set_index('#sample-id')\n",
    "\n",
    "    # Subset metadata to only contain the same samples as in the BIOM df\n",
    "    metadata_sub = metadata.loc[df.columns]\n",
    "\n",
    "    # Get a list of the sample ids that are just nares\n",
    "    metadataindex = metadata_sub[metadata_sub['case_type'].isin(['case-anterior nares', 'control-anterior nares'])].index.tolist()\n",
    "    \n",
    "    \n",
    "    # Drop all sample-ids that correspond to nares in the BIOM table DataFrame\n",
    "    df = df.drop(columns= metadataindex)\n",
    "\n",
    "    # Subsets the Metadata to only contain the sample ids that are in the newly subsetted biom table DataFrame with only Skin\n",
    "    metadata_sub = metadata.loc[df.columns]\n",
    "\n",
    "    \n",
    "    #returns BIOM table DataFrame and the metadata that has been subsetted to only contain skin\n",
    "    return df, metadata_sub\n",
    "\n",
    "\n",
    "# converts the subsetted skin only BIOM table DataFrame back into a BIOM to run RPCA\n",
    "def convert_df_to_biom(table, biom_output_file):\n",
    "    obs_ids = table.index\n",
    "    samp_ids = table.columns\n",
    "    biom_table = biom.table.Table(table.values, observation_ids=obs_ids, sample_ids=samp_ids) # Convert df back to a biom table\n",
    "    #biom_output_file = f\"../tables/{name}_subset.biom\" # Path to output file\n",
    "\n",
    "    with biom_open(biom_output_file, 'w') as f: # This does the actual saving!\n",
    "        biom_table.to_hdf5(f, generated_by=\"subsetted tables\")\n",
    "\n",
    "    return biom_table\n",
    "\n"
   ]
  },
  {
   "cell_type": "code",
   "execution_count": 11,
   "metadata": {},
   "outputs": [],
   "source": [
    "# specify the path to the BIOM table and Metadata\n",
    "biom_path = \"/Users/annanguyen/16S_AD_South-Africa/Data/Tables/Relative_Abundance_Tables/df_16S_filtered_feature_table_rare_Genus_relative_abundance.biom\"\n",
    "metadata_path = '../Data/Metadata/updated_clean_ant_skin_metadata.tab'\n",
    "skin_only_table, metadata_sub = load_biom_table(biom_path, metadata_path)"
   ]
  },
  {
   "cell_type": "code",
   "execution_count": 28,
   "metadata": {},
   "outputs": [
    {
     "data": {
      "text/plain": [
       "True"
      ]
     },
     "execution_count": 28,
     "metadata": {},
     "output_type": "execute_result"
    }
   ],
   "source": [
    "# Check to see if the subset metadata only contains skin\n",
    "metadata_sub['case_type'].value_counts()\n",
    "\n",
    "biom_tbl_ids = list(biom_tbl.ids(axis='sample'))\n",
    "\n",
    "# Check to see if the len of the BIOM file is the same as metadata \n",
    "len(biom_tbl_ids) == len(metadata_sub.index)"
   ]
  },
  {
   "cell_type": "markdown",
   "metadata": {},
   "source": [
    "# Converting the subsetted BIOM table DF back to BIOM table "
   ]
  },
  {
   "cell_type": "code",
   "execution_count": 20,
   "metadata": {},
   "outputs": [
    {
     "name": "stdout",
     "output_type": "stream",
     "text": [
      "skin_only_biom_path = '/Users/annanguyen/16S_AD_South-Africa/Data/Tables/Relative_Abundance_Tables/df_16S_filtered_feature_table_rare_Genus_relative_abundance_skin_only.biom'\n"
     ]
    }
   ],
   "source": [
    "# Create the path to the skin BIOM file by using the prefix of the original BIOM file\n",
    "skin_only_biom_path = biom_path.removesuffix('.biom') + '_skin_only.biom'\n",
    "\n",
    "# Print the path that was created\n",
    "print(f'{skin_only_biom_path = }')\n",
    "\n",
    "# Converting df to BIOM table and saving the biom table to the path specified above\n",
    "biom_tbl = convert_df_to_biom(skin_only_table, skin_only_biom_path)"
   ]
  },
  {
   "cell_type": "markdown",
   "metadata": {},
   "source": [
    "# Run RPCA on subsetted BIOM table"
   ]
  },
  {
   "cell_type": "code",
   "execution_count": 29,
   "metadata": {},
   "outputs": [
    {
     "data": {
      "text/html": [
       "<div>\n",
       "<style scoped>\n",
       "    .dataframe tbody tr th:only-of-type {\n",
       "        vertical-align: middle;\n",
       "    }\n",
       "\n",
       "    .dataframe tbody tr th {\n",
       "        vertical-align: top;\n",
       "    }\n",
       "\n",
       "    .dataframe thead th {\n",
       "        text-align: right;\n",
       "    }\n",
       "</style>\n",
       "<table border=\"1\" class=\"dataframe\">\n",
       "  <thead>\n",
       "    <tr style=\"text-align: right;\">\n",
       "      <th></th>\n",
       "      <th>PC1</th>\n",
       "      <th>PC2</th>\n",
       "      <th>PC3</th>\n",
       "      <th>case_type</th>\n",
       "    </tr>\n",
       "  </thead>\n",
       "  <tbody>\n",
       "    <tr>\n",
       "      <th>900221</th>\n",
       "      <td>-0.138159</td>\n",
       "      <td>0.119562</td>\n",
       "      <td>-0.061583</td>\n",
       "      <td>case-lesional skin</td>\n",
       "    </tr>\n",
       "    <tr>\n",
       "      <th>900570</th>\n",
       "      <td>0.008191</td>\n",
       "      <td>-0.092232</td>\n",
       "      <td>0.082358</td>\n",
       "      <td>case-nonlesional skin</td>\n",
       "    </tr>\n",
       "    <tr>\n",
       "      <th>900091</th>\n",
       "      <td>-0.015862</td>\n",
       "      <td>0.000555</td>\n",
       "      <td>-0.051489</td>\n",
       "      <td>case-nonlesional skin</td>\n",
       "    </tr>\n",
       "    <tr>\n",
       "      <th>900245</th>\n",
       "      <td>-0.121362</td>\n",
       "      <td>-0.081891</td>\n",
       "      <td>-0.084649</td>\n",
       "      <td>control-nonlesional skin</td>\n",
       "    </tr>\n",
       "    <tr>\n",
       "      <th>900581</th>\n",
       "      <td>0.037155</td>\n",
       "      <td>-0.027596</td>\n",
       "      <td>0.087532</td>\n",
       "      <td>case-lesional skin</td>\n",
       "    </tr>\n",
       "    <tr>\n",
       "      <th>...</th>\n",
       "      <td>...</td>\n",
       "      <td>...</td>\n",
       "      <td>...</td>\n",
       "      <td>...</td>\n",
       "    </tr>\n",
       "    <tr>\n",
       "      <th>Ca008HNL</th>\n",
       "      <td>-0.084536</td>\n",
       "      <td>0.198259</td>\n",
       "      <td>0.042356</td>\n",
       "      <td>case-lesional skin</td>\n",
       "    </tr>\n",
       "    <tr>\n",
       "      <th>900081</th>\n",
       "      <td>0.054839</td>\n",
       "      <td>0.013485</td>\n",
       "      <td>-0.018482</td>\n",
       "      <td>case-lesional skin</td>\n",
       "    </tr>\n",
       "    <tr>\n",
       "      <th>900501</th>\n",
       "      <td>0.142025</td>\n",
       "      <td>-0.035154</td>\n",
       "      <td>0.038437</td>\n",
       "      <td>case-nonlesional skin</td>\n",
       "    </tr>\n",
       "    <tr>\n",
       "      <th>900279</th>\n",
       "      <td>-0.002518</td>\n",
       "      <td>0.044130</td>\n",
       "      <td>0.012372</td>\n",
       "      <td>control-nonlesional skin</td>\n",
       "    </tr>\n",
       "    <tr>\n",
       "      <th>9003972</th>\n",
       "      <td>0.152526</td>\n",
       "      <td>-0.008643</td>\n",
       "      <td>0.031789</td>\n",
       "      <td>case-lesional skin</td>\n",
       "    </tr>\n",
       "  </tbody>\n",
       "</table>\n",
       "<p>148 rows × 4 columns</p>\n",
       "</div>"
      ],
      "text/plain": [
       "               PC1       PC2       PC3                 case_type\n",
       "900221   -0.138159  0.119562 -0.061583        case-lesional skin\n",
       "900570    0.008191 -0.092232  0.082358     case-nonlesional skin\n",
       "900091   -0.015862  0.000555 -0.051489     case-nonlesional skin\n",
       "900245   -0.121362 -0.081891 -0.084649  control-nonlesional skin\n",
       "900581    0.037155 -0.027596  0.087532        case-lesional skin\n",
       "...            ...       ...       ...                       ...\n",
       "Ca008HNL -0.084536  0.198259  0.042356        case-lesional skin\n",
       "900081    0.054839  0.013485 -0.018482        case-lesional skin\n",
       "900501    0.142025 -0.035154  0.038437     case-nonlesional skin\n",
       "900279   -0.002518  0.044130  0.012372  control-nonlesional skin\n",
       "9003972   0.152526 -0.008643  0.031789        case-lesional skin\n",
       "\n",
       "[148 rows x 4 columns]"
      ]
     },
     "execution_count": 29,
     "metadata": {},
     "output_type": "execute_result"
    }
   ],
   "source": [
    "# perform RPCA with auto rank estimation\n",
    "np.seterr(divide = 'ignore')\n",
    "ordination, distance = rpca(biom_tbl)\n",
    "\n",
    "# extract and view sample ordinations from RPCA result\n",
    "spca_df = ordination.samples\n",
    "\n",
    "# Add a case type column into the spca_df using the meta_data and matching by indices by the join function\n",
    "spca_df = spca_df.join(metadata_sub['case_type'])\n",
    "\n",
    "spca_df"
   ]
  },
  {
   "cell_type": "code",
   "execution_count": 30,
   "metadata": {},
   "outputs": [
    {
     "data": {
      "text/html": [
       "<div>\n",
       "<style scoped>\n",
       "    .dataframe tbody tr th:only-of-type {\n",
       "        vertical-align: middle;\n",
       "    }\n",
       "\n",
       "    .dataframe tbody tr th {\n",
       "        vertical-align: top;\n",
       "    }\n",
       "\n",
       "    .dataframe thead th {\n",
       "        text-align: right;\n",
       "    }\n",
       "</style>\n",
       "<table border=\"1\" class=\"dataframe\">\n",
       "  <thead>\n",
       "    <tr style=\"text-align: right;\">\n",
       "      <th></th>\n",
       "      <th>PC1</th>\n",
       "      <th>PC2</th>\n",
       "      <th>PC3</th>\n",
       "    </tr>\n",
       "  </thead>\n",
       "  <tbody>\n",
       "    <tr>\n",
       "      <th>g__Streptococcus</th>\n",
       "      <td>0.368990</td>\n",
       "      <td>-0.251468</td>\n",
       "      <td>0.138232</td>\n",
       "    </tr>\n",
       "    <tr>\n",
       "      <th>g__Staphylococcus</th>\n",
       "      <td>-0.110703</td>\n",
       "      <td>0.166092</td>\n",
       "      <td>0.847127</td>\n",
       "    </tr>\n",
       "    <tr>\n",
       "      <th>g__Haemophilus_D_734546</th>\n",
       "      <td>0.202138</td>\n",
       "      <td>-0.045132</td>\n",
       "      <td>-0.024013</td>\n",
       "    </tr>\n",
       "    <tr>\n",
       "      <th>g__Unknown</th>\n",
       "      <td>-0.033930</td>\n",
       "      <td>-0.388362</td>\n",
       "      <td>0.122917</td>\n",
       "    </tr>\n",
       "    <tr>\n",
       "      <th>g__Corynebacterium</th>\n",
       "      <td>-0.185973</td>\n",
       "      <td>-0.250482</td>\n",
       "      <td>0.130804</td>\n",
       "    </tr>\n",
       "  </tbody>\n",
       "</table>\n",
       "</div>"
      ],
      "text/plain": [
       "                              PC1       PC2       PC3\n",
       "g__Streptococcus         0.368990 -0.251468  0.138232\n",
       "g__Staphylococcus       -0.110703  0.166092  0.847127\n",
       "g__Haemophilus_D_734546  0.202138 -0.045132 -0.024013\n",
       "g__Unknown              -0.033930 -0.388362  0.122917\n",
       "g__Corynebacterium      -0.185973 -0.250482  0.130804"
      ]
     },
     "execution_count": 30,
     "metadata": {},
     "output_type": "execute_result"
    }
   ],
   "source": [
    "# extract and view feature ordinations from RPCA result\n",
    "fpca_df = ordination.features\n",
    "fpca_df.head()"
   ]
  },
  {
   "cell_type": "code",
   "execution_count": 33,
   "metadata": {},
   "outputs": [],
   "source": [
    "# Set the color palette for the groups in the correct order\n",
    "palette = {\n",
    "    'control-nonlesional skin': '#3333B3',     # Dark Blue color for Healthy\n",
    "    'case-nonlesional skin': '#5cbccb',     # Blue color for AD Non-Lesional\n",
    "    'case-lesional skin': '#f16c52',       # Red color for AD Lesional\n",
    "}\n"
   ]
  },
  {
   "cell_type": "markdown",
   "metadata": {},
   "source": [
    "# Calculate P-values for all combinations of skin case_types"
   ]
  },
  {
   "cell_type": "code",
   "execution_count": 46,
   "metadata": {},
   "outputs": [
    {
     "data": {
      "text/plain": [
       "[\"['control-nonlesional skin', 'case-nonlesional skin'] = 0.001\",\n",
       " \"['control-nonlesional skin', 'case-lesional skin'] = 0.001\",\n",
       " \"['case-lesional skin', 'case-nonlesional skin'] = 0.004\"]"
      ]
     },
     "execution_count": 46,
     "metadata": {},
     "output_type": "execute_result"
    }
   ],
   "source": [
    "# calculate permanova F-statistic for all combinations between Healthy, case lesional and case non lesional\n",
    "\n",
    "case_type_subsets = [\n",
    "    [\"control-nonlesional skin\", \"case-nonlesional skin\"],\n",
    "    [\"control-nonlesional skin\", \"case-lesional skin\"],\n",
    "    [\"case-lesional skin\", \"case-nonlesional skin\"]\n",
    "]\n",
    "\n",
    "perma_res = []\n",
    "\n",
    "# Iterate through all case_type combinations and calculate the p-value and append to the empty list perma_res \n",
    "for case_type_subset in case_type_subsets:\n",
    "    result = permanova_on_case_type_subset(spca_df, distance, case_type_subset)\n",
    "    perma_res.append(f\"{case_type_subset} = {result['p-value']}\")\n",
    "\n",
    "# View the list\n",
    "perma_res\n",
    "\n"
   ]
  },
  {
   "cell_type": "markdown",
   "metadata": {},
   "source": [
    "# Plot the convex hull PCA for Skin samples only"
   ]
  },
  {
   "cell_type": "code",
   "execution_count": 54,
   "metadata": {},
   "outputs": [
    {
     "name": "stderr",
     "output_type": "stream",
     "text": [
      "/var/folders/rp/mghgplxx36v920xs6nr3x9f40000gn/T/ipykernel_9399/2222261701.py:76: UserWarning: FigureCanvasAgg is non-interactive, and thus cannot be shown\n",
      "  plt.show()\n"
     ]
    }
   ],
   "source": [
    "# create beta diversity plot\n",
    "mm = 1/25.4\n",
    "fig, ax = plt.subplots(1, 1, figsize=(90*mm, 110*mm))\n",
    "\n",
    "fpca_df.columns = [f\"PC{i+1}\" for i in range(fpca_df.shape[1])]\n",
    "\n",
    "sns.scatterplot(\n",
    "    data=spca_df,\n",
    "    x=\"PC1\",\n",
    "    y=\"PC2\",\n",
    "    hue=\"case_type\",\n",
    "    edgecolor=None,\n",
    "    palette=palette,\n",
    "    ax=ax\n",
    ")\n",
    "\n",
    "for case_type, case_type_df in spca_df.groupby(\"case_type\"):\n",
    "    color = palette[case_type]\n",
    "\n",
    "    points = case_type_df[[\"PC1\", \"PC2\"]].values\n",
    "    hull = scipy.spatial.ConvexHull(points)\n",
    "\n",
    "    hull_plot_x = points[hull.vertices, 0]\n",
    "    hull_plot_y = points[hull.vertices, 1]\n",
    "    # Connect last point with first point\n",
    "    hull_plot_x = np.append(hull_plot_x, points[hull.vertices[0], 0])\n",
    "    hull_plot_y = np.append(hull_plot_y, points[hull.vertices[0], 1])\n",
    "\n",
    "    ax.plot(\n",
    "        hull_plot_x,\n",
    "        hull_plot_y,\n",
    "        c=color,\n",
    "        zorder=0\n",
    "    )\n",
    "    ax.fill(\n",
    "        points[hull.vertices, 0],\n",
    "        points[hull.vertices, 1],\n",
    "        c=color,\n",
    "        alpha=0.3\n",
    "    )\n",
    "\n",
    "\n",
    "handles, labels = ax.get_legend_handles_labels()\n",
    "plt.legend(\n",
    "    handles=handles,\n",
    "    labels=map(str.capitalize, labels),\n",
    "    frameon=False,\n",
    "    fontsize = 7\n",
    ")\n",
    "\n",
    "pc1_pct, pc2_pct, _ = [f\"PC{i+1} ({x*100:.2f}%)\" for i, x in enumerate(ordination.proportion_explained)]\n",
    "\n",
    "ax.set_xlabel(pc1_pct, fontsize = 7)\n",
    "ax.set_ylabel(pc2_pct, fontsize = 7)\n",
    "\n",
    "yticklabels = [-0.2, -0.1, 0.0, 0.1, 0.2, 0.3]\n",
    "yticklocations = yticklabels  # Assuming you want the locations to match the labels\n",
    "ax.set_yticks(yticklocations)\n",
    "ax.set_yticklabels(yticklabels, fontsize = 7)\n",
    "\n",
    "xticklabels = [-0.2, -0.1, 0.0, 0.1, 0.2, 0.3]\n",
    "xticklocations = xticklabels  # Assuming you want the locations to match the labels\n",
    "ax.set_xticks(xticklocations)\n",
    "ax.set_xticklabels(xticklabels, fontsize = 7)\n",
    "\n",
    "# Writes out the text for each permanova run combination\n",
    "ax.text(-0.18, 0.3, 'PERMANOVA', fontsize=7)\n",
    "ax.text(-0.18, 0.28, perma_res[0], fontsize=6)\n",
    "ax.text(-0.18, 0.26, perma_res[1], fontsize=6)\n",
    "ax.text(-0.18, 0.24, perma_res[2], fontsize=6)\n",
    "\n",
    "ax.spines[\"right\"].set_visible(False)\n",
    "ax.spines[\"top\"].set_visible(False)\n",
    "\n",
    "plt.tight_layout()\n",
    "plt.savefig(\"../plots/Beta_Plots/16S_Beta_Diversity_skin_only.png\", dpi = 600)\n",
    "plt.show()"
   ]
  }
 ],
 "metadata": {
  "kernelspec": {
   "display_name": "microbiome_plots",
   "language": "python",
   "name": "python3"
  },
  "language_info": {
   "codemirror_mode": {
    "name": "ipython",
    "version": 3
   },
   "file_extension": ".py",
   "mimetype": "text/x-python",
   "name": "python",
   "nbconvert_exporter": "python",
   "pygments_lexer": "ipython3",
   "version": "3.10.14"
  }
 },
 "nbformat": 4,
 "nbformat_minor": 2
}
